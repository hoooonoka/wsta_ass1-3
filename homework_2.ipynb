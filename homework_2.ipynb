{
 "cells": [
  {
   "cell_type": "markdown",
   "metadata": {},
   "source": [
    "# Homework 2: Word Similarity"
   ]
  },
  {
   "cell_type": "markdown",
   "metadata": {
    "collapsed": true
   },
   "source": [
    "Student Name: Zhouhui Wu\n",
    "\n",
    "Student ID: 963830"
   ]
  },
  {
   "cell_type": "markdown",
   "metadata": {},
   "source": [
    "## General info"
   ]
  },
  {
   "cell_type": "markdown",
   "metadata": {},
   "source": [
    "<b>Due date</b>: Thursday, 18 Apr 2019 4pm\n",
    "\n",
    "<b>Submission method</b>: see LMS\n",
    "\n",
    "<b>Submission materials</b>: completed copy of this iPython notebook\n",
    "\n",
    "<b>Late submissions</b>: -20% per day\n",
    "\n",
    "<b>Marks</b>: 7% of mark for class (with 6% on correctness + 1% on quality and efficiency of your code)\n",
    "\n",
    "<b>Materials</b>: See the main class LMS page for information on the basic setup required for this class, including an iPython notebook viewer and the python packages NLTK, Numpy, Scipy, Matplotlib and Scikit-Learn. In particular, if you are not using a lab computer which already has it installed, we recommend installing all the data for NLTK, since you will need various parts of it to complete this assignment. You can also use any Python built-in packages, but do not use any other 3rd party packages; if your iPython notebook doesn't run on the marker's machine, you will lose marks. <b> You should use Python 3</b>. \n",
    "\n",
    "To familiarize yourself with NLTK, here is a free online book:  Steven Bird, Ewan Klein, and Edward Loper (2009). <a href=http://nltk.org/book>Natural Language Processing with Python</a>. O'Reilly Media Inc. You may also consult the <a href=https://www.nltk.org/api/nltk.html>NLTK API</a>.\n",
    "\n",
    "<b>Evaluation</b>: Your iPython notebook should run end-to-end without any errors in a reasonable amount of time, and you must follow all instructions provided below, including specific implementation requirements and instructions for what needs to be printed (please avoid printing output we don't ask for). You should edit the sections below where requested, but leave the rest of the code as is. You should leave the output from running your code in the iPython notebook you submit, to assist with marking. The amount each section is worth is given in parenthesis after the instructions. \n",
    "\n",
    "You will be marked not only on the correctness of your methods, but also the quality and efficency of your code: in particular, you should be careful to use Python built-in functions and operators when appropriate and pick descriptive variable names that adhere to <a href=\"https://www.python.org/dev/peps/pep-0008/\">Python style requirements</a>. If you think it might be unclear what you are doing, you should comment your code to help the marker make sense of it.\n",
    "\n",
    "<b>Updates</b>: Any major changes to the assignment will be announced via LMS. Minor changes and clarifications will be announced in the forum on LMS, we recommend you check the forum regularly.\n",
    "\n",
    "<b>Academic Misconduct</b>: For most people, collaboration will form a natural part of the undertaking of this homework, and we encourge you to discuss it in general terms with other students. However, this ultimately is still an individual task, and so reuse of code or other instances of clear influence will be considered cheating. We will be checking submissions for originality and will invoke the University’s <a href=\"http://academichonesty.unimelb.edu.au/policy.html\">Academic Misconduct policy</a> where inappropriate levels of collusion or plagiarism are deemed to have taken place."
   ]
  },
  {
   "cell_type": "markdown",
   "metadata": {},
   "source": [
    "## Overview"
   ]
  },
  {
   "cell_type": "markdown",
   "metadata": {},
   "source": [
    "In this homework, you'll be quantifying the similarity between pairs of words of a dataset using different methods with the word co-occurrence in the Brown corpus and synset structure of WordNet. Firstly, you will preprocess the dataset to filter out the rare and ambiguous words. Secondly, you will calculate the similarity scores for pairs of words in the filtered dateset using Lin similarity, NPMI and LSA. Lastly, you will quantify how well these methods work by comparing to a human annotated gold-standard."
   ]
  },
  {
   "cell_type": "markdown",
   "metadata": {},
   "source": [
    "## 1. Preprocessing (2 marks)"
   ]
  },
  {
   "cell_type": "markdown",
   "metadata": {
    "collapsed": true
   },
   "source": [
    "<b>Instructions</b>: For this homework we will be comparing our methods against a popular dataset of word similarities called <a href=\"http://www.cs.technion.ac.il/~gabr/resources/data/wordsim353/\">Similarity-353</a>. You need to first obtain this dataset, which is available on LMS. The file we will be using is called *set1.tab*. Make sure you save this in the same folder as the notebook.  Except for the header (which should be stripped out), the file is tab formated with the first two columns corresponding to two words, and the third column representing a human-annotated similarity between the two words. <b>You should ignore the subsequent columns</b>.\n",
    "\n",
    "Here shows the first six lines of the file:\n",
    "\n",
    "```\n",
    "Word 1\tWord 2\tHuman (mean)\t1\t2\t3\t4\t5\t6\t7\t8\t9\t10\t11\t12\t13\t\n",
    "love\tsex\t6.77\t9\t6\t8\t8\t7\t8\t8\t4\t7\t2\t6\t7\t8\t\n",
    "tiger\tcat\t7.35\t9\t7\t8\t7\t8\t9\t8.5\t5\t6\t9\t7\t5\t7\t\n",
    "tiger\ttiger\t10.00\t10\t10\t10\t10\t10\t10\t10\t10\t10\t10\t10\t10\t10\t\n",
    "book\tpaper\t7.46\t8\t8\t7\t7\t8\t9\t7\t6\t7\t8\t9\t4\t9\t\n",
    "computer\tkeyboard\t7.62\t8\t7\t9\t9\t8\t8\t7\t7\t6\t8\t10\t3\t9\t\n",
    "```\n",
    "    \n",
    "You should load this file into a Python dictionary (NOTE: in Python, tuples of strings, i.e. (\"tiger\",\"cat\") can serve as the keys of a dictionary to map to their human-annotated similarity). This dataset contains many rare words: we need to filter this dataset in order for it to be better suited to the resources we will use in this assignment. So your first goal is to filter this dataset to generate a smaller test set where you will evaluate your word similarity methods.\n",
    "\n",
    "The first filtering is based on document frequencies in the Brown corpus, in order to remove rare words. In this homework, we will be treating the paragraphs of the Brown corpus as our \"documents\". You can iterate over them by using the `paras` method of the corpus reader. You should remove tokens that are not alphabetic. Tokens should be lower-cased and lemmatized. Now calculate document frequencies for each word type, and use this to remove from your word similarity data any word pairs where at least one of the two words has a document frequency of less than 8 in this corpus.\n",
    "\n",
    "For this part, you should store all the word pair and similarity mappings in your filtered test set in a dictionary called *filtered_gold_standard*. You may check the section, <i>\"For your testing\"</i>, below for the expected *filtered_gold_standard*.\n",
    "\n",
    "(1 mark)"
   ]
  },
  {
   "cell_type": "code",
   "execution_count": 28,
   "metadata": {
    "scrolled": true
   },
   "outputs": [
    {
     "name": "stdout",
     "output_type": "stream",
     "text": [
      "[nltk_data] Downloading package brown to /Users/zhouhuiwu/nltk_data...\n",
      "[nltk_data]   Package brown is already up-to-date!\n",
      "[nltk_data] Downloading package wordnet to\n",
      "[nltk_data]     /Users/zhouhuiwu/nltk_data...\n",
      "[nltk_data]   Package wordnet is already up-to-date!\n",
      "94\n",
      "{('love', 'sex'): 6.77, ('tiger', 'cat'): 7.35, ('tiger', 'tiger'): 10.0, ('book', 'paper'): 7.46, ('plane', 'car'): 5.77, ('train', 'car'): 6.31, ('telephone', 'communication'): 7.5, ('television', 'radio'): 6.77, ('drug', 'abuse'): 6.85, ('bread', 'butter'): 6.19, ('doctor', 'nurse'): 7.0, ('professor', 'doctor'): 6.62, ('student', 'professor'): 6.81, ('smart', 'student'): 4.62, ('smart', 'stupid'): 5.81, ('company', 'stock'): 7.08, ('stock', 'market'): 8.08, ('stock', 'phone'): 1.62, ('stock', 'egg'): 1.81, ('stock', 'live'): 3.73, ('stock', 'life'): 0.92, ('book', 'library'): 7.46, ('bank', 'money'): 8.12, ('wood', 'forest'): 7.73, ('money', 'cash'): 9.08, ('king', 'queen'): 8.58, ('bishop', 'rabbi'): 6.69, ('holy', 'sex'): 1.62, ('football', 'basketball'): 6.81, ('football', 'tennis'): 6.63, ('tennis', 'racket'): 7.56, ('law', 'lawyer'): 8.38, ('movie', 'star'): 7.38, ('movie', 'critic'): 6.73, ('movie', 'theater'): 7.92, ('space', 'chemistry'): 4.88, ('alcohol', 'chemistry'): 5.54, ('drink', 'car'): 3.04, ('drink', 'ear'): 1.31, ('drink', 'mouth'): 5.96, ('drink', 'eat'): 6.87, ('baby', 'mother'): 7.85, ('drink', 'mother'): 2.65, ('car', 'automobile'): 8.94, ('journey', 'voyage'): 9.29, ('coast', 'shore'): 9.1, ('food', 'fruit'): 7.52, ('bird', 'cock'): 7.1, ('tool', 'implement'): 6.46, ('brother', 'monk'): 6.27, ('journey', 'car'): 5.85, ('coast', 'hill'): 4.38, ('forest', 'graveyard'): 1.85, ('monk', 'slave'): 0.92, ('coast', 'forest'): 3.15, ('chord', 'smile'): 0.54, ('noon', 'string'): 0.54, ('money', 'dollar'): 8.42, ('money', 'currency'): 9.04, ('money', 'wealth'): 8.27, ('money', 'property'): 7.57, ('money', 'possession'): 7.29, ('money', 'bank'): 8.5, ('money', 'deposit'): 7.73, ('money', 'operation'): 3.31, ('tiger', 'animal'): 7.0, ('tiger', 'organism'): 4.77, ('tiger', 'zoo'): 5.87, ('psychology', 'anxiety'): 7.0, ('psychology', 'fear'): 6.85, ('psychology', 'depression'): 7.42, ('psychology', 'doctor'): 6.42, ('psychology', 'mind'): 7.69, ('psychology', 'health'): 7.23, ('psychology', 'science'): 6.71, ('psychology', 'discipline'): 5.58, ('planet', 'star'): 8.45, ('planet', 'moon'): 8.08, ('planet', 'sun'): 8.02, ('planet', 'galaxy'): 8.11, ('planet', 'space'): 7.92, ('precedent', 'example'): 5.85, ('precedent', 'information'): 3.85, ('precedent', 'law'): 6.65, ('precedent', 'collection'): 2.5, ('precedent', 'group'): 1.77, ('cup', 'coffee'): 6.58, ('cup', 'article'): 2.4, ('cup', 'object'): 3.69, ('cup', 'entity'): 2.15, ('cup', 'drink'): 7.25, ('cup', 'food'): 5.0, ('cup', 'substance'): 1.92, ('cup', 'liquid'): 5.9}\n"
     ]
    }
   ],
   "source": [
    "import nltk\n",
    "from nltk.corpus import brown\n",
    "from nltk.corpus import wordnet\n",
    "\n",
    "nltk.download(\"brown\")\n",
    "nltk.download(\"wordnet\")\n",
    "\n",
    "# filtered_gold_standard stores the word pairs and their human-annotated similarity in your filtered test set\n",
    "filtered_gold_standard = {}\n",
    "\n",
    "###\n",
    "# Your answer BEGINS HERE\n",
    "###\n",
    "\n",
    "# the whole process can be divided into 3 part:\n",
    "# 1. read and store all alphabetic pairs\n",
    "# 2. compute docuemnt frequency using Brown corpus\n",
    "# 3. filter word pairs using document frequency information\n",
    "# follow this approach, we can filter those pairs without storing Brown corpus informaiton and processing\n",
    "# Brown corpus only 1 time\n",
    "\n",
    "# lemmatize function from tutorial 1\n",
    "lemmatizer = nltk.stem.wordnet.WordNetLemmatizer()\n",
    "def lemmatize(word):\n",
    "    lemma = lemmatizer.lemmatize(word,'v')\n",
    "    if lemma == word:\n",
    "        lemma = lemmatizer.lemmatize(word,'n')\n",
    "    return lemma\n",
    "\n",
    "\n",
    "# read and store all alphabetic word pairs\n",
    "all_pairs={} # used to store all pair information\n",
    "all_words=set() # used to store all word types\n",
    "file = open('set1.tab', 'r')\n",
    "for line in file:\n",
    "    tokens=line.split('\\t')\n",
    "    word_1=tokens[0]\n",
    "    word_2=tokens[1]\n",
    "    if word_1.isalpha() and word_2.isalpha():\n",
    "        # 2 words are alphabetic\n",
    "        similarity=float(tokens[2])\n",
    "        all_pairs[(word_1,word_2)]=similarity\n",
    "        if word_1 not in all_words:\n",
    "            all_words.add(word_1)\n",
    "        if word_2 not in all_words:\n",
    "            all_words.add(word_2)\n",
    "file.close()\n",
    "\n",
    "document_frequency={} # a dictionary used to store document frequency for each word\n",
    "\n",
    "# initialize the document frequency dictionary\n",
    "for word in all_words:\n",
    "    document_frequency[word]=0\n",
    "\n",
    "# compute document frequency\n",
    "\n",
    "paragraphs=brown.paras()\n",
    "for paragraph in paragraphs:\n",
    "    vocabulary=set() # a set used to store all word types in a paragraph\n",
    "    for sentence in paragraph:\n",
    "        for word in sentence:\n",
    "            if not word.isalpha():\n",
    "                continue\n",
    "            word=lemmatize(word.lower())\n",
    "            if word not in vocabulary:\n",
    "                vocabulary.add(word)\n",
    "\n",
    "    for word in vocabulary:\n",
    "        if word in document_frequency:\n",
    "            document_frequency[word]+=1\n",
    "\n",
    "# filter with document frequency        \n",
    "for pair in all_pairs:\n",
    "    word_1=pair[0]\n",
    "    word_2=pair[1]\n",
    "    word_1_frequency=document_frequency[word_1]\n",
    "    word_2_frequency=document_frequency[word_2]\n",
    "    if word_1_frequency>=8 and word_2_frequency>=8:\n",
    "        # meet document frequency requirement\n",
    "        filtered_gold_standard[pair]=all_pairs[pair]\n",
    "\n",
    "\n",
    "###\n",
    "# Your answer ENDS HERE\n",
    "###\n",
    "\n",
    "print(len(filtered_gold_standard))\n",
    "print(filtered_gold_standard)\n"
   ]
  },
  {
   "cell_type": "markdown",
   "metadata": {},
   "source": [
    "<b>For your testing: </b>"
   ]
  },
  {
   "cell_type": "code",
   "execution_count": 29,
   "metadata": {},
   "outputs": [],
   "source": [
    "assert(len(filtered_gold_standard) > 50 and len(filtered_gold_standard) < 100)"
   ]
  },
  {
   "cell_type": "code",
   "execution_count": 30,
   "metadata": {},
   "outputs": [],
   "source": [
    "assert(filtered_gold_standard[('love', 'sex')] == 6.77)"
   ]
  },
  {
   "cell_type": "markdown",
   "metadata": {},
   "source": [
    "<b>Instructions</b>: Here, you apply the second filtering. The second filtering is based on words with highly ambiguous senses and involves using the NLTK interface to WordNet. Here, you should remove any words which do not have a *single primary sense*. We define single primary sense here as either a) having only one sense (i.e. only one synset), or b) where the count (as provided by the WordNet `count()` method for the lemmas associated with a synset) of the most common sense is at least 4 times larger than the next most common sense. Note that a synset can be associated with multiple lemmas. You should only consider the count of your lemma. Also, you should remove any words where the primary sense is not a noun (this information is also in the synset). Store the synset corresponding to this primary sense in a dictionary for use in the next section. Given this definition, remove the word pairs from the test set where at least one of the words does not meet the above criteria.\n",
    "\n",
    "When you have applied the two filtering steps, you should store all the word pair and similarity mappings in your filtered test set in a dictionary called *final_gold_standard*. You may check the section, <i>\"For your testing\"</i>, below for the expected *final_gold_standard*.\n",
    "\n",
    "(1 mark)"
   ]
  },
  {
   "cell_type": "code",
   "execution_count": 31,
   "metadata": {
    "scrolled": false
   },
   "outputs": [
    {
     "name": "stdout",
     "output_type": "stream",
     "text": [
      "26\n",
      "{('bread', 'butter'): 6.19, ('professor', 'doctor'): 6.62, ('student', 'professor'): 6.81, ('stock', 'egg'): 1.81, ('money', 'cash'): 9.08, ('king', 'queen'): 8.58, ('bishop', 'rabbi'): 6.69, ('football', 'basketball'): 6.81, ('football', 'tennis'): 6.63, ('alcohol', 'chemistry'): 5.54, ('baby', 'mother'): 7.85, ('car', 'automobile'): 8.94, ('journey', 'voyage'): 9.29, ('coast', 'shore'): 9.1, ('brother', 'monk'): 6.27, ('journey', 'car'): 5.85, ('coast', 'hill'): 4.38, ('forest', 'graveyard'): 1.85, ('monk', 'slave'): 0.92, ('coast', 'forest'): 3.15, ('psychology', 'doctor'): 6.42, ('psychology', 'mind'): 7.69, ('psychology', 'health'): 7.23, ('psychology', 'science'): 6.71, ('planet', 'moon'): 8.08, ('planet', 'galaxy'): 8.11}\n"
     ]
    }
   ],
   "source": [
    "# final_gold_standard stores the word pairs and their human-annotated similarity in your final filtered test set\n",
    "final_gold_standard = {}\n",
    "\n",
    "###\n",
    "# Your answer BEGINS HERE\n",
    "###\n",
    "\n",
    "primary_sense={} # used to store primary sense for each word\n",
    "\n",
    "for pair in filtered_gold_standard:\n",
    "    word_1=pair[0]\n",
    "    word_2=pair[1]\n",
    "    word_1_sense,word_2_sense={},{} # dictionary store the synset information and corresponding count\n",
    "    word_1_gold_standard,word_2_gold_standard=True,True # boolean denoting whether the word should be kept\n",
    "\n",
    "    # processing word 1\n",
    "    if len(wordnet.synsets(word_1))!=1:\n",
    "        # word 1 has more than 1 synsets\n",
    "        for synset in wordnet.synsets(word_1):\n",
    "            for lemma in synset.lemmas():\n",
    "                # find the lemma using its name\n",
    "                if str(lemma.name()).lower()==word_1:\n",
    "                    targetLemma=lemma\n",
    "                    counts=targetLemma.count()\n",
    "                    word_1_sense[synset]=counts\n",
    "                    break\n",
    "                    \n",
    "        # sort the synset dictionary and check the primary sense requirement\n",
    "        sorted_sense = sorted(word_1_sense.items(),key = lambda x:x[1],reverse = True)\n",
    "        if len(word_1_sense)==0:\n",
    "            # all count is 0, has no primary sense\n",
    "            word_1_gold_standard=False\n",
    "        elif len(word_1_sense)>1:\n",
    "            # more than 1 sense, check the count requirement\n",
    "            primary_sense[word_1]=sorted_sense[0][0]\n",
    "            if sorted_sense[0][1]<4*sorted_sense[1][1]:\n",
    "                word_1_gold_standard=False\n",
    "            if sorted_sense[0][0].pos()!='n':\n",
    "                word_1_gold_standard=False\n",
    "        else:\n",
    "            # has only 1 sense\n",
    "            primary_sense[word_1]=sorted_sense[0][0]\n",
    "            if sorted_sense[0][0].pos()!='n':\n",
    "                word_1_gold_standard=False\n",
    "    else:\n",
    "        # word 1 has only 1 synset, it has a single primary sense\n",
    "        primary_sense[word_1]=wordnet.synsets(word_1)[0]\n",
    "        if wordnet.synsets(word_1)[0].pos()!='n':\n",
    "            # not a noun\n",
    "            word_1_gold_standard=False\n",
    "            \n",
    "    # processing word 2\n",
    "    if len(wordnet.synsets(word_2))!=1:\n",
    "        # word 2 has more than 1 synsets\n",
    "        for synset in wordnet.synsets(word_2):\n",
    "            for lemma in synset.lemmas():\n",
    "                # find the lemma using its name\n",
    "                if str(lemma.name()).lower()==word_2:\n",
    "                    targetLemma=lemma\n",
    "                    counts=targetLemma.count()\n",
    "                    word_2_sense[synset]=counts\n",
    "                    break\n",
    "                    \n",
    "        # sort the synset dictionary and check the primary sense requirement\n",
    "        sorted_sense = sorted(word_2_sense.items(),key = lambda x:x[1],reverse = True)\n",
    "        if len(word_2_sense)==0:\n",
    "            # all count is 0, has no primary sense\n",
    "            word_2_gold_standard=False\n",
    "        elif len(word_2_sense)>1:\n",
    "            # more than 1 sense, check the count requirement\n",
    "            primary_sense[word_2]=sorted_sense[0][0]\n",
    "            if sorted_sense[0][1]<4*sorted_sense[1][1]:\n",
    "                word_2_gold_standard=False\n",
    "            if sorted_sense[0][0].pos()!='n':\n",
    "                word_2_gold_standard=False\n",
    "        else:\n",
    "            # has only 1 sense\n",
    "            primary_sense[word_2]=sorted_sense[0][0]\n",
    "            if sorted_sense[0][0].pos()!='n':\n",
    "                word_2_gold_standard=False\n",
    "            \n",
    "    else:\n",
    "        # word 2 has only 1 synset, it has a single primary sense\n",
    "        primary_sense[word_2]=wordnet.synsets(word_2)[0]\n",
    "        if wordnet.synsets(word_2)[0].pos()!='n':\n",
    "            # not a noun\n",
    "            word_2_gold_standard=False\n",
    "    \n",
    "    # complete the final dictionary\n",
    "    if word_1_gold_standard and word_2_gold_standard:\n",
    "        final_gold_standard[pair]=filtered_gold_standard[pair]\n",
    "\n",
    "###\n",
    "# Your answer ENDS HERE\n",
    "###\n",
    "\n",
    "print(len(final_gold_standard))\n",
    "print(final_gold_standard)"
   ]
  },
  {
   "cell_type": "markdown",
   "metadata": {},
   "source": [
    "<b>For your testing:</b>"
   ]
  },
  {
   "cell_type": "code",
   "execution_count": 32,
   "metadata": {},
   "outputs": [],
   "source": [
    "assert(len(final_gold_standard) > 10 and len(final_gold_standard) < 40)"
   ]
  },
  {
   "cell_type": "code",
   "execution_count": 33,
   "metadata": {},
   "outputs": [],
   "source": [
    "assert(final_gold_standard[('professor', 'doctor')] == 6.62)"
   ]
  },
  {
   "cell_type": "markdown",
   "metadata": {},
   "source": [
    "## 2. Word similiarity scores with Lin similarity, NPMI and LSA (3 marks)"
   ]
  },
  {
   "cell_type": "markdown",
   "metadata": {},
   "source": [
    "<b>Instructions</b>: Now you will create several dictionaries with similarity scores for pairs of words in your test set derived using the techniques discussed in class. The first of these is the Lin similarity for your word pairs using the information content of the Brown corpus, which you should calculate using the primary sense for each word derived above. You can use the built-in method included in the NLTK interface, you don't have to implement your own. \n",
    "\n",
    "When you're done, you should store the word pair and similarity mappings in a dictionary called *lin_similarities*. You may check the section, <i>\"For your testing\"</i>, below for the expected *lin_similarities*. \n",
    "\n",
    "(1 mark)"
   ]
  },
  {
   "cell_type": "code",
   "execution_count": 34,
   "metadata": {
    "scrolled": true
   },
   "outputs": [
    {
     "name": "stdout",
     "output_type": "stream",
     "text": [
      "[nltk_data] Downloading package wordnet_ic to\n",
      "[nltk_data]     /Users/zhouhuiwu/nltk_data...\n",
      "[nltk_data]   Package wordnet_ic is already up-to-date!\n",
      "{('bread', 'butter'): 0.711420490146294, ('professor', 'doctor'): 0.7036526610448273, ('student', 'professor'): 0.26208607023317687, ('stock', 'egg'): -0.0, ('money', 'cash'): 0.7888839126424345, ('king', 'queen'): 0.25872135992145145, ('bishop', 'rabbi'): 0.6655650900427844, ('football', 'basketball'): 0.7536025025710653, ('football', 'tennis'): 0.7699955045932811, ('alcohol', 'chemistry'): 0.062235427146896456, ('baby', 'mother'): 0.6315913189894092, ('car', 'automobile'): 1.0, ('journey', 'voyage'): 0.6969176573027711, ('coast', 'shore'): 0.9632173804623256, ('brother', 'monk'): 0.24862817480738675, ('journey', 'car'): -0.0, ('coast', 'hill'): 0.5991131628821826, ('forest', 'graveyard'): -0.0, ('monk', 'slave'): 0.2543108201944307, ('coast', 'forest'): -0.0, ('psychology', 'doctor'): -0.0, ('psychology', 'mind'): 0.304017384194818, ('psychology', 'health'): 0.06004979886905243, ('psychology', 'science'): 0.8474590505736942, ('planet', 'moon'): 0.7808882364067532, ('planet', 'galaxy'): -0.0}\n"
     ]
    }
   ],
   "source": [
    "from nltk.corpus import wordnet_ic\n",
    "nltk.download('wordnet_ic')\n",
    "\n",
    "# lin_similarities stores the word pair and Lin similarity mappings\n",
    "lin_similarities = {}\n",
    "\n",
    "###\n",
    "# Your answer BEGINS HERE\n",
    "###\n",
    "\n",
    "for pair in final_gold_standard:\n",
    "    word_1=pair[0]\n",
    "    word_2=pair[1]\n",
    "    # get primary sense computed in previous question\n",
    "    word_1_sense,word_2_sense=primary_sense[word_1],primary_sense[word_2]\n",
    "    # compute lin similarity\n",
    "    lin_similarities[pair]=word_1_sense.lin_similarity(word_2_sense,wordnet_ic.ic('ic-brown.dat'))\n",
    "\n",
    "###\n",
    "# Your answer ENDS HERE\n",
    "###\n",
    "\n",
    "print(lin_similarities)"
   ]
  },
  {
   "cell_type": "markdown",
   "metadata": {},
   "source": [
    "<b>For your testing:</b>"
   ]
  },
  {
   "cell_type": "code",
   "execution_count": 35,
   "metadata": {},
   "outputs": [],
   "source": [
    "assert(lin_similarities[('professor', 'doctor')] > 0.5 and lin_similarities[('professor', 'doctor')] < 1)"
   ]
  },
  {
   "cell_type": "markdown",
   "metadata": {},
   "source": [
    "**Instructions:** Next, you will calculate Normalized PMI (NPMI) for your word pairs using word frequency derived from the Brown.\n",
    "\n",
    "PMI is defined as:\n",
    "\n",
    "\\begin{equation*}\n",
    "PMI = \\log_2\\left(\\frac{p(x,y)}{p(x)p(y)}\\right)\n",
    "\\end{equation*}\n",
    "\n",
    "where\n",
    "\n",
    "\\begin{equation*}\n",
    "p(x,y) = \\frac{\\text{Number of paragraphs with the co-occurrence of x and y}}{\\sum_i \\text{Number of word types in paragraph}_i}\n",
    "\\end{equation*}\n",
    "\n",
    "\\begin{equation*}\n",
    "p(x) = \\frac{\\text{Number of paragraphs with the occurrence of x}}{\\sum_i \\text{Number of word types in paragraph}_i}\n",
    "\\end{equation*}\n",
    "\n",
    "\\begin{equation*}\n",
    "p(y) = \\frac{\\text{Number of paragraphs with the occurrence of y}}{\\sum_i \\text{Number of word types in paragraph}_i}\n",
    "\\end{equation*}\n",
    "\n",
    "with the sum over $i$ ranging over all paragraphs. Note that there are other ways PMI could be formulated.\n",
    "\n",
    "NPMI is defined as:\n",
    "\n",
    "\\begin{equation*}\n",
    "NPMI = \\frac{PMI}{-\\log_2(p(x,y))} = \\frac{\\log_2(p(x)p(y))}{\\log_2(p(x,y))} - 1\n",
    "\\end{equation*}\n",
    "\n",
    "Thus, when there is no co-occurrence, NPMI is -1. NPMI is normalized between [-1, +1].\n",
    "\n",
    "You should use the same set up as you did to calculate document frequency above: paragraphs as documents, lemmatized, lower-cased, and with term frequency information removed by conversion to Python sets. You need to use the basic method for calculating PMI introduced in class (and also in the reading) which is appropriate for any possible definition of co-occurrence (here, there is co-occurrence when a word pair appears in the same paragraph), but you should only calculate PMI for the words in your test set. You must avoid building the entire co-occurrence matrix, instead you should keeping track of the sums you need for the probabilities as you go along. \n",
    "\n",
    "When you have calculated NPMI for all the pairs, you should store the word pair and NPMI-similarity mappings in a dictionary called *NPMI_similarities*. You may check the section, <i>\"For your testing\"</i>, below for the expected *NPMI_similarities*. \n",
    "\n",
    "(1 mark)"
   ]
  },
  {
   "cell_type": "code",
   "execution_count": 36,
   "metadata": {
    "scrolled": false
   },
   "outputs": [
    {
     "name": "stdout",
     "output_type": "stream",
     "text": [
      "{('bread', 'butter'): 0.6531272737497535, ('professor', 'doctor'): -1, ('student', 'professor'): 0.535495995400926, ('stock', 'egg'): 0.3685128922213745, ('money', 'cash'): 0.44493834723517267, ('king', 'queen'): 0.4181407297139579, ('bishop', 'rabbi'): -1, ('football', 'basketball'): 0.7161994042283006, ('football', 'tennis'): -1, ('alcohol', 'chemistry'): 0.6246376972254173, ('baby', 'mother'): 0.5149353890388502, ('car', 'automobile'): 0.5430334549802613, ('journey', 'voyage'): -1, ('coast', 'shore'): 0.586151062984337, ('brother', 'monk'): 0.4299318525693172, ('journey', 'car'): -1, ('coast', 'hill'): 0.3393102883484622, ('forest', 'graveyard'): -1, ('monk', 'slave'): -1, ('coast', 'forest'): 0.45787396913892864, ('psychology', 'doctor'): 0.46132815837264096, ('psychology', 'mind'): 0.44616660434351796, ('psychology', 'health'): -1, ('psychology', 'science'): 0.5908740096534866, ('planet', 'moon'): 0.6580006162323315, ('planet', 'galaxy'): -1}\n"
     ]
    }
   ],
   "source": [
    "# NPMI_similarities stores the word pair and NPMI similarity mappings\n",
    "NPMI_similarities = {}\n",
    "\n",
    "###\n",
    "# Your answer BEGINS HERE\n",
    "###\n",
    "\n",
    "import math\n",
    "\n",
    "# similar to the process in question 1, we divide the process into 3 parts:\n",
    "# 1. find all words and initialize dictionaries used to store document frequency information\n",
    "# 2. compute docuemnt frequency using Brown corpus\n",
    "# 3. compute NPMI using document frequency information\n",
    "# follow this approach, we can compute the NPMI without storing Brown corpus informaiton and processing\n",
    "# Brown corpus only 1 time\n",
    "\n",
    "pair_document_frequency={} # used to store document frequency for each pair of words\n",
    "word_document_frequency={} # used to store document frequency for each word\n",
    "all_word_types=0 # sum of word types in all paragraphs\n",
    "\n",
    "# initialize document frequency dictionaries\n",
    "for pair in final_gold_standard:\n",
    "    word_1=pair[0]\n",
    "    word_2=pair[1]\n",
    "    if word_1 not in word_document_frequency:\n",
    "        word_document_frequency[word_1]=0\n",
    "    if word_2 not in word_document_frequency:\n",
    "        word_document_frequency[word_2]=0\n",
    "    pair_document_frequency[pair]=0\n",
    "\n",
    "# process the Brown corpus, compute the document frequency\n",
    "for paragraph in paragraphs:\n",
    "    words=set() # used to store all word types in a paragraph\n",
    "    for sentence in paragraph:\n",
    "        for word in sentence:\n",
    "            if not word.isalpha():\n",
    "                continue\n",
    "            word=lemmatize(word.lower())\n",
    "            if word not in words:\n",
    "                words.add(word)\n",
    "    \n",
    "    # update the word types sum\n",
    "    all_word_types+=len(words)\n",
    "    \n",
    "    # update document frequency for each word\n",
    "    for word in words:\n",
    "        if word in word_document_frequency:\n",
    "            word_document_frequency[word]+=1\n",
    "    \n",
    "    # update document frequency for each pair of words\n",
    "    for pair in final_gold_standard:\n",
    "        word_1=pair[0]\n",
    "        word_2=pair[1]\n",
    "        if word_1 in words and word_2 in words:\n",
    "            pair_document_frequency[pair]+=1\n",
    "                    \n",
    "# compute the NPMI using document frequency information\n",
    "for pair in final_gold_standard:\n",
    "    word_1=pair[0]\n",
    "    word_2=pair[1]\n",
    "    p_1=word_document_frequency[word_1]/all_word_types\n",
    "    p_2=word_document_frequency[word_2]/all_word_types\n",
    "    p_1_2=pair_document_frequency[pair]/all_word_types\n",
    "    if p_1_2!=0:\n",
    "        NPMI_similarities[pair]=math.log(p_1*p_2,2)/math.log(p_1_2,2)-1\n",
    "    else:\n",
    "        NPMI_similarities[pair]=-1\n",
    "\n",
    "\n",
    "###\n",
    "# Your answer ENDS HERE\n",
    "###\n",
    "\n",
    "print(NPMI_similarities)"
   ]
  },
  {
   "cell_type": "markdown",
   "metadata": {},
   "source": [
    "<b>For your testing:</b>"
   ]
  },
  {
   "cell_type": "code",
   "execution_count": 37,
   "metadata": {},
   "outputs": [],
   "source": [
    "assert(NPMI_similarities[('professor', 'doctor')] == -1)"
   ]
  },
  {
   "cell_type": "markdown",
   "metadata": {},
   "source": [
    "**Instructions:** As PMI matrix is very sparse and can be approximated well by a dense representation via singular value decomposition (SVD), you will derive similarity scores using the Latent Semantic Analysis (LSA) method, i.e. apply SVD and truncate to get a dense vector representation of a word type and then calculate cosine similarity between the two vectors for each word pair. You can use the Distributed Semantics notebook as a starting point, but note that since you are interested here in word semantics, you will be constructing a matrix where the (non-sparse) rows correspond to words in the vocabulary, and the (sparse) columns correspond to the texts where they appear (this is the opposite of the notebook). Again, use the Brown corpus, in the same format as with PMI and document frequency. After you have a matrix in the correct format, use `truncatedSVD` in `sklearn` to produce dense vectors of length k = 500, and then use cosine similarity to produce similarities for your word pairs. \n",
    "\n",
    "When you are done, you should store the word pair and LSA-similarity mappings in a dictionary called *LSA_similarities*. You may check the section, <i>\"For your testing\"</i>, below for the expected *LSA_similarities*. \n",
    "\n",
    "(1 mark)"
   ]
  },
  {
   "cell_type": "code",
   "execution_count": 52,
   "metadata": {
    "scrolled": false
   },
   "outputs": [
    {
     "name": "stdout",
     "output_type": "stream",
     "text": [
      "{('bread', 'butter'): 0.3083339795506384, ('professor', 'doctor'): 0.054570206159738587, ('student', 'professor'): 0.2914452587867365, ('stock', 'egg'): 0.1217006734864723, ('money', 'cash'): 0.14462710983769164, ('king', 'queen'): 0.14137316525678092, ('bishop', 'rabbi'): 0.004680818869042214, ('football', 'basketball'): 0.2747540386019898, ('football', 'tennis'): 0.11254884212829978, ('alcohol', 'chemistry'): 0.11278509563625824, ('baby', 'mother'): 0.36119876348747404, ('car', 'automobile'): 0.343816314635744, ('journey', 'voyage'): 0.06331032143192379, ('coast', 'shore'): 0.4327455296784078, ('brother', 'monk'): 0.0825151570339918, ('journey', 'car'): 0.0027866619150669417, ('coast', 'hill'): 0.22965982336217408, ('forest', 'graveyard'): 0.05510989796371968, ('monk', 'slave'): -0.03700782489579195, ('coast', 'forest'): 0.13865821135162526, ('psychology', 'doctor'): 0.11258559419197485, ('psychology', 'mind'): 0.1137522924774776, ('psychology', 'health'): 0.07552159959228467, ('psychology', 'science'): 0.2558363830130578, ('planet', 'moon'): 0.379678149430296, ('planet', 'galaxy'): 0.053452251531792144}\n"
     ]
    }
   ],
   "source": [
    "# LSA_similarities stores the word pair and LSA similarity mappings\n",
    "LSA_similarities = {}\n",
    "\n",
    "###\n",
    "# Your answer BEGINS HERE\n",
    "###\n",
    "\n",
    "from sklearn.decomposition import TruncatedSVD\n",
    "from sklearn.feature_extraction import DictVectorizer\n",
    "import numpy as np\n",
    "\n",
    "# build document-term matrix\n",
    "all_words = []\n",
    "for paragraph in paragraphs:\n",
    "    words={} # used to store all word types in a paragraph\n",
    "    for sentence in paragraph:\n",
    "        for word in sentence:\n",
    "            if not word.isalpha():\n",
    "                continue\n",
    "            word=lemmatize(word.lower())\n",
    "            if word not in words:\n",
    "                words[word]=1\n",
    "    all_words.append(words)\n",
    "\n",
    "vectorizer = DictVectorizer()\n",
    "matrix = vectorizer.fit_transform(all_words).transpose()\n",
    "\n",
    "word_types_list = vectorizer.get_feature_names()\n",
    "\n",
    "# print(matrix.shape)\n",
    "\n",
    "# approximate the matrix with lower rank matrix\n",
    "svd = TruncatedSVD(n_components=500)\n",
    "matrix = svd.fit_transform(matrix)\n",
    "# print(matrix.shape)\n",
    "\n",
    "# use dense vector to compute similarity\n",
    "for pair in final_gold_standard:\n",
    "    word_1=pair[0]\n",
    "    word_2=pair[1]\n",
    "    # get dense vectors\n",
    "    vector_1=matrix[word_types_list.index(word_1)]\n",
    "    vector_2=matrix[word_types_list.index(word_2)]\n",
    "    # compute cosine similarity\n",
    "    norm_1,norm_2,dot_product=0,0,0\n",
    "    for (i,j) in zip(vector_1,vector_2):\n",
    "        dot_product+=i*j\n",
    "        norm_1+=i*i\n",
    "        norm_2+=j*j\n",
    "    similarity=dot_product/math.sqrt(norm_1*norm_2)\n",
    "    LSA_similarities[pair]=similarity\n",
    "\n",
    "###\n",
    "# Your answer ENDS HERE\n",
    "###\n",
    "\n",
    "print(LSA_similarities)"
   ]
  },
  {
   "cell_type": "markdown",
   "metadata": {},
   "source": [
    "<b>For your testing:</b>"
   ]
  },
  {
   "cell_type": "code",
   "execution_count": 54,
   "metadata": {},
   "outputs": [],
   "source": [
    "assert(LSA_similarities[('professor', 'doctor')] > 0 and LSA_similarities[('professor', 'doctor')] < 0.4)"
   ]
  },
  {
   "cell_type": "markdown",
   "metadata": {},
   "source": [
    "## 3. Comparison with the Gold Standard (1 mark)"
   ]
  },
  {
   "cell_type": "markdown",
   "metadata": {},
   "source": [
    "\n",
    "**Instructions:** Finally, you should compare all the similarities you've created to the gold standard you loaded and filtered in the first step. For this, you can use the Pearson correlation co-efficient (`pearsonr`), which is included in scipy (`scipy.stats`). Be careful converting your dictionaries to lists for this purpose, the data for the two datasets needs to be in the same order for correct comparison using correlation. Write a general function, then apply it to each of the similarity score dictionaries.\n",
    "\n",
    "When you are done, you should put the result in a dictionary called *pearson_correlations* (use the keys: 'lin', 'NPMI', 'LSA'). You may check the section, <i>\"For your testing\"</i>, below for the expected *pearson_correlations*. \n",
    "\n",
    "<b>Hint:</b> All of the methods used here should be markedly above 0, but also far from 1 (perfect correlation); if you're not getting reasonable results, go back and check your code for bugs!  \n",
    "\n",
    "(1 mark)\n"
   ]
  },
  {
   "cell_type": "code",
   "execution_count": 42,
   "metadata": {},
   "outputs": [
    {
     "name": "stdout",
     "output_type": "stream",
     "text": [
      "{'lin': 0.5301489978447533, 'NPMI': 0.18799888869410047, 'LSA': 0.3781659470049462}\n"
     ]
    }
   ],
   "source": [
    "from scipy.stats import pearsonr\n",
    "\n",
    "# pearson_correlations stores the pearson correlations with the gold standard of 'lin', 'NPMI', 'LSA'\n",
    "pearson_correlations = {}\n",
    "\n",
    "###\n",
    "# Your answer BEGINS HERE\n",
    "###\n",
    "\n",
    "LSA_list=[]\n",
    "gold_standard_list=[]\n",
    "lin_list=[]\n",
    "NPMI_list=[]\n",
    "for pair in final_gold_standard:\n",
    "    gold_standard_list.append(final_gold_standard[pair])\n",
    "    lin_list.append(lin_similarities[pair])\n",
    "    NPMI_list.append(NPMI_similarities[pair])\n",
    "    LSA_list.append(LSA_similarities[pair])\n",
    "\n",
    "pearson_correlations['lin']=pearsonr(lin_list,gold_standard_list)[0]\n",
    "pearson_correlations['NPMI']=pearsonr(NPMI_list,gold_standard_list)[0]\n",
    "pearson_correlations['LSA']=pearsonr(LSA_list,gold_standard_list)[0]\n",
    "\n",
    "\n",
    "###\n",
    "# Your answer ENDS HERE\n",
    "###\n",
    "\n",
    "print(pearson_correlations)"
   ]
  },
  {
   "cell_type": "markdown",
   "metadata": {},
   "source": [
    "<b>For your testing:</b>"
   ]
  },
  {
   "cell_type": "code",
   "execution_count": 43,
   "metadata": {},
   "outputs": [],
   "source": [
    "assert(pearson_correlations['lin'] > 0.4 and pearson_correlations['lin'] < 0.8)"
   ]
  },
  {
   "cell_type": "markdown",
   "metadata": {},
   "source": [
    "## Challenge yourself: Improving the correlation (This part will NOT be marked)"
   ]
  },
  {
   "cell_type": "markdown",
   "metadata": {},
   "source": [
    "You can try to derive a similarity score from word2vec vectors, using the Gensim interface, and compare it with the similarity scores you've created and the gold standard. Check the Gensim word2vec tutorial for details on the API: https://radimrehurek.com/gensim/models/word2vec.html. Again, you should use the Brown for this, but for word2vec you don't need to worry about paragraphs: feel free to train your model at the sentence level instead. Your vectors should have the same number of dimensions as LSA (500), and you need to run for 50 iterations. This may take a while (several minutes)."
   ]
  },
  {
   "cell_type": "code",
   "execution_count": 44,
   "metadata": {},
   "outputs": [
    {
     "name": "stdout",
     "output_type": "stream",
     "text": [
      "finish preprocessing\n",
      "finish model training\n",
      "{('bread', 'butter'): 0.60929621195955, ('professor', 'doctor'): 0.13270619547372384, ('student', 'professor'): 0.2827866549264933, ('stock', 'egg'): 0.17539202803577916, ('money', 'cash'): 0.21923536714620365, ('king', 'queen'): 0.18114439638171745, ('bishop', 'rabbi'): 0.25529896186068524, ('football', 'basketball'): 0.4959148806803802, ('football', 'tennis'): 0.527736858440259, ('alcohol', 'chemistry'): 0.1525535423874349, ('baby', 'mother'): 0.28030245483292293, ('car', 'automobile'): 0.2706369588962117, ('journey', 'voyage'): 0.37572879186549063, ('coast', 'shore'): 0.4359815046319264, ('brother', 'monk'): 0.19025000160991914, ('journey', 'car'): 0.11992453695818724, ('coast', 'hill'): 0.4292015507157831, ('forest', 'graveyard'): 0.15013432735323806, ('monk', 'slave'): 0.0901824155165461, ('coast', 'forest'): 0.22530448697982403, ('psychology', 'doctor'): 0.05234123876911611, ('psychology', 'mind'): 0.075524227236294, ('psychology', 'health'): 0.11183847084019528, ('psychology', 'science'): 0.31578207752929344, ('planet', 'moon'): 0.38181012015142113, ('planet', 'galaxy'): 0.09779617735422308}\n",
      "{'lin': 0.5301489978447533, 'NPMI': 0.18799888869410047, 'LSA': 0.3781659470049462, 'word2vec': 0.22895314626910918}\n"
     ]
    },
    {
     "name": "stderr",
     "output_type": "stream",
     "text": [
      "/anaconda3/lib/python3.6/site-packages/ipykernel_launcher.py:33: DeprecationWarning: Call to deprecated `__getitem__` (Method will be removed in 4.0.0, use self.wv.__getitem__() instead).\n",
      "/anaconda3/lib/python3.6/site-packages/ipykernel_launcher.py:34: DeprecationWarning: Call to deprecated `__getitem__` (Method will be removed in 4.0.0, use self.wv.__getitem__() instead).\n"
     ]
    }
   ],
   "source": [
    "from gensim.models import Word2Vec\n",
    "from gensim.test.utils import get_tmpfile\n",
    "from scipy import linalg, dot\n",
    "from nltk.corpus import brown\n",
    "from gensim.models import KeyedVectors\n",
    "\n",
    "sentences = brown.sents()\n",
    "\n",
    "# preprocess the Brown corpus\n",
    "preprocessed_sentences=[]\n",
    "for sentence in sentences:\n",
    "    preprocessed_sentence=[]\n",
    "    for word in sentence:\n",
    "        if not word.isalpha():\n",
    "            continue\n",
    "        word=lemmatize(word.lower())\n",
    "        preprocessed_sentence.append(word)\n",
    "    preprocessed_sentences.append(preprocessed_sentence)\n",
    "print('finish preprocessing')\n",
    "    \n",
    "# train the model\n",
    "path = get_tmpfile(\"word2vec.model\")\n",
    "model = Word2Vec(preprocessed_sentences, size=500, iter=50)\n",
    "model.save(\"word2vec.model\")\n",
    "vectors = KeyedVectors.load(\"word2vec.model\", mmap='r')\n",
    "print('finish model training')\n",
    "\n",
    "# compute similarities\n",
    "w2v_similarities={}\n",
    "for pair in final_gold_standard:\n",
    "    word_1=pair[0]\n",
    "    word_2=pair[1]\n",
    "    vector_1 = vectors[word_1]\n",
    "    vector_2 = vectors[word_2]\n",
    "    similarity = dot(vector_1,vector_2.T)/(linalg.norm(vector_1)*linalg.norm(vector_2))\n",
    "    w2v_similarities[pair]=similarity\n",
    "print(w2v_similarities)\n",
    "\n",
    "# compute the Pearson correlation co-efficient with the gold standard\n",
    "w2v_list=[]\n",
    "new_gold_standard_list=[]\n",
    "for pair in w2v_similarities:\n",
    "    new_gold_standard_list.append(final_gold_standard[pair])\n",
    "    w2v_list.append(w2v_similarities[pair])\n",
    "pearson_correlations['word2vec']=pearsonr(w2v_list,new_gold_standard_list)[0]\n",
    "print(pearson_correlations)"
   ]
  },
  {
   "cell_type": "markdown",
   "metadata": {},
   "source": [
    "## A final word\n",
    "\n",
    "Normally, we would not use a corpus as small as the Brown for the purposes of building distributional word vectors. Also, note that filtering our test set to just words we are likely to do well on would typically be considered cheating."
   ]
  }
 ],
 "metadata": {
  "anaconda-cloud": {},
  "kernelspec": {
   "display_name": "Python 3",
   "language": "python",
   "name": "python3"
  },
  "language_info": {
   "codemirror_mode": {
    "name": "ipython",
    "version": 3
   },
   "file_extension": ".py",
   "mimetype": "text/x-python",
   "name": "python",
   "nbconvert_exporter": "python",
   "pygments_lexer": "ipython3",
   "version": "3.6.4"
  }
 },
 "nbformat": 4,
 "nbformat_minor": 1
}
